{
 "cells": [
  {
   "cell_type": "markdown",
   "metadata": {},
   "source": [
    "# DDPG\n",
    "\n",
    "Задаем структуру аппроксимаций $\\pi^\\eta(s)$, $Q^\\theta(s,a)$ и начальные вектора параметров $\\eta$, $\\theta$.\n",
    "\n",
    "Для каждого эпизода делаем:\n",
    "\n",
    "   Пока эпизод не закончен делаем:\n",
    "\n",
    "- Находясь в состоянии $S_t$ совершаем действие\n",
    "\n",
    "    $$\n",
    "    A_t = \\pi^\\eta(S_t) + Noise,\n",
    "    $$\n",
    "\n",
    "    получаем награду $R_t$  переходим в состояние $S_{t+1}$. Сохраняем \n",
    "    $(S_t,A_t,R_t,S_{t+1}) \\Rightarrow Memory$\n",
    "\n",
    "\n",
    "- Берем $\\{(s_i,a_i,r_i,s'_i)\\}_{i=1}^{n} \\leftarrow Memory$, определяем значения\n",
    "\n",
    "    $$\n",
    "    y_i = r_i + \\gamma Q^\\theta(s'_i,\\pi^\\eta(s'_i))\n",
    "    $$\n",
    "    функции потерь\n",
    "\n",
    "    $$\n",
    "    Loss_1(\\theta) = \\frac{1}{n}\\sum\\limits_{i=1}^n \\big(y_i - Q^\\theta(s_i,a_i)\\big)^2,\\quad Loss_2(\\eta) = \\frac{1}{n}\\sum\\limits_{i=1}^n Q^\\theta(s_i,\\pi^\\eta(s_i))\n",
    "    $$\n",
    "\n",
    "    и обновляем вектор параметров\n",
    "\n",
    "    $$\n",
    "    \\theta \\leftarrow \\theta - \\alpha \\nabla_\\theta Loss_1(\\theta),\\quad \\eta \\leftarrow \\eta + \\beta \\nabla_\\eta Loss_2(\\eta),\\quad \\alpha,\\beta > 0\n",
    "    $$\n",
    "\n",
    "- Уменьшаем $Noise$"
   ]
  },
  {
   "cell_type": "code",
   "execution_count": 1,
   "metadata": {
    "ExecuteTime": {
     "end_time": "2020-12-10T13:19:40.443616Z",
     "start_time": "2020-12-10T13:19:40.430613Z"
    }
   },
   "outputs": [],
   "source": [
    "#Ornstein–Uhlenbeck process (Процесс Орнштейна – Уленбека)\n",
    "\n",
    "class OUNoise:\n",
    "    def __init__(self, action_dimension, mu=0, theta=0.15, sigma=0.3):\n",
    "        self.action_dimension = action_dimension\n",
    "        self.mu = mu\n",
    "        self.theta = theta\n",
    "        self.sigma = sigma\n",
    "        self.state = np.ones(self.action_dimension) * self.mu\n",
    "        self.reset()\n",
    "\n",
    "    def reset(self):\n",
    "        self.state = np.ones(self.action_dimension) * self.mu\n",
    "\n",
    "    def sample(self):\n",
    "        x = self.state\n",
    "        dx = self.theta * (self.mu - x) + self.sigma * np.random.randn(len(x))\n",
    "        self.state = x + dx\n",
    "        return self.state"
   ]
  },
  {
   "cell_type": "code",
   "execution_count": 6,
   "metadata": {
    "ExecuteTime": {
     "end_time": "2020-12-10T13:32:18.792167Z",
     "start_time": "2020-12-10T13:32:18.748995Z"
    }
   },
   "outputs": [],
   "source": [
    "import numpy as np\n",
    "import torch\n",
    "import torch.nn as nn\n",
    "import random\n",
    "from collections import deque\n",
    "from copy import deepcopy\n",
    "\n",
    "\n",
    "class TwoLayersNeywork(nn.Module):\n",
    "    def __init__(self, input_dim, layer_1_dim, layer_2_dim, output_dim, is_tanh):\n",
    "        super().__init__()\n",
    "        self.linear_1 = nn.Linear(input_dim, layer_1_dim)\n",
    "        self.linear_2 = nn.Linear(layer_1_dim, layer_2_dim)\n",
    "        self.linear_3 = nn.Linear(layer_2_dim, output_dim)\n",
    "        self.relu = nn.ReLU()\n",
    "        self.is_tanh = is_tanh\n",
    "        self.tanh = nn.Tanh()\n",
    "        \n",
    "    def forward(self, input):\n",
    "        hidden = self.linear_1(input)\n",
    "        hidden = self.relu(hidden)\n",
    "        hidden = self.linear_2(hidden)\n",
    "        hidden = self.relu(hidden)\n",
    "        output = self.linear_3(hidden)\n",
    "        if self.is_tanh:\n",
    "            output = self.tanh(output)\n",
    "        return output\n",
    "    \n",
    "\n",
    "class DDPG():\n",
    "    def __init__(self, state_dim, action_dim, action_max, gamma=0.99, tau=1e-3,\n",
    "                 batch_size=64, q_model_lr=1e-3, pi_model_lr=1e-4, noise_decrease=0.01):\n",
    "        self.state_dim = state_dim\n",
    "        self.action_dim = action_dim\n",
    "        self.action_max = action_max\n",
    "        self.pi_model = TwoLayersNeywork(state_dim, 400, 300, action_dim, is_tanh=True)\n",
    "        self.pi_target_model = deepcopy(self.pi_model)\n",
    "        self.q_model = TwoLayersNeywork(state_dim + action_dim, 400, 300, 1, is_tanh=False)\n",
    "        self.q_target_model = deepcopy(self.q_model)\n",
    "        self.noise = OUNoise(self.action_dim)\n",
    "        self.noise_threshold = 1\n",
    "        self.noise_decrease = noise_decrease\n",
    "        self.noise_min = 0.01\n",
    "        self.memory = deque(maxlen=10000)\n",
    "        self.batch_size = batch_size\n",
    "        self.gamma = gamma\n",
    "        self.tau = tau\n",
    "        self.q_optimazer = torch.optim.Adam(self.q_model.parameters(), lr=q_model_lr)\n",
    "        self.pi_optimazer = torch.optim.Adam(self.pi_model.parameters(), lr=pi_model_lr)\n",
    "    \n",
    "    def get_action(self, state):\n",
    "        state = torch.FloatTensor(state)\n",
    "        _action = self.pi_model(state).detach().data.numpy() + self.noise_threshold * self.noise.sample()\n",
    "        return self.action_max * _action\n",
    "    \n",
    "    def update_target_model(self, target_model, model, optimazer, loss):\n",
    "        optimazer.zero_grad()\n",
    "        loss.backward()\n",
    "        optimazer.step()\n",
    "        for target_param, param in zip(target_model.parameters(), model.parameters()):\n",
    "            target_param.data.copy_((1 - self.tau) * target_param.data + self.tau * param.data)        \n",
    "    \n",
    "    def fit(self, state, action, reward, done, next_state):\n",
    "        self.memory.append([state, action, reward, done, next_state])\n",
    "        \n",
    "        if len(self.memory) >= self.batch_size:\n",
    "            batch = random.sample(self.memory, self.batch_size)\n",
    "            states, actions, rewards, dones, next_states = map(torch.FloatTensor, zip(*batch))\n",
    "            rewards = rewards.reshape(self.batch_size, 1)\n",
    "            dones = dones.reshape(self.batch_size, 1)\n",
    "            \n",
    "            pred_next_actions = self.action_max * self.pi_target_model(next_states)\n",
    "            next_states_and_pred_next_actions = torch.cat((next_states, pred_next_actions), dim=1)\n",
    "            targets = rewards + self.gamma * (1 - dones) * self.q_target_model(next_states_and_pred_next_actions)\n",
    "            \n",
    "            states_and_actions = torch.cat((states, actions), dim=1)\n",
    "            temp = (self.q_model(states_and_actions) - targets.detach())\n",
    "            q_loss = torch.mean((targets.detach() - self.q_model(states_and_actions)) ** 2)\n",
    "            self.update_target_model(self.q_target_model, self.q_model, self.q_optimazer, q_loss)\n",
    "            \n",
    "            pred_actions = self.action_max * self.pi_model(states)\n",
    "            states_and_pred_actions = torch.cat((states, pred_actions), dim=1)\n",
    "            pi_loss = - torch.mean(self.q_model(states_and_pred_actions))\n",
    "            self.update_target_model(self.pi_target_model, self.pi_model, self.pi_optimazer, pi_loss)"
   ]
  },
  {
   "cell_type": "code",
   "execution_count": 7,
   "metadata": {
    "ExecuteTime": {
     "end_time": "2020-12-10T13:47:46.108496Z",
     "start_time": "2020-12-10T13:32:18.797167Z"
    }
   },
   "outputs": [
    {
     "data": {
      "image/png": "[encoded data removed]",
      "text/plain": [
       "<Figure size 432x288 with 1 Axes>"
      ]
     },
     "metadata": {
      "needs_background": "light"
     },
     "output_type": "display_data"
    }
   ],
   "source": [
    "import gym\n",
    "import matplotlib.pyplot as plt\n",
    "from IPython.display import clear_output\n",
    "\n",
    "\n",
    "env = gym.make('Pendulum-v0')\n",
    "agent = DDPG(state_dim=3, action_dim=1, action_max=2)\n",
    "\n",
    "episode_n = 200\n",
    "session_len = 200\n",
    "total_rewards = []\n",
    "\n",
    "for episode in range(episode_n):\n",
    "    state = env.reset()\n",
    "    total_reward = 0\n",
    "    for _ in range(session_len):\n",
    "        action = agent.get_action(state)\n",
    "        next_state, reward, done, _ = env.step(action)\n",
    "        agent.fit(state, action, reward, done, next_state)\n",
    "        state = next_state\n",
    "        total_reward += reward\n",
    "    total_rewards.append(total_reward)\n",
    "    plt.plot(total_rewards)\n",
    "    clear_output(True)    \n",
    "    plt.show()"
   ]
  },
  {
   "cell_type": "code",
   "execution_count": null,
   "metadata": {},
   "outputs": [],
   "source": []
  }
 ],
 "metadata": {
  "kernelspec": {
   "display_name": "Python 3",
   "language": "python",
   "name": "python3"
  },
  "toc": {
   "base_numbering": 1,
   "nav_menu": {},
   "number_sections": false,
   "sideBar": true,
   "skip_h1_title": false,
   "title_cell": "Table of Contents",
   "title_sidebar": "Contents",
   "toc_cell": false,
   "toc_position": {},
   "toc_section_display": true,
   "toc_window_display": false
  }
 },
 "nbformat": 4,
 "nbformat_minor": 4
}
